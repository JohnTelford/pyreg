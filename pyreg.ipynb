{
 "cells": [
  {
   "cell_type": "code",
   "execution_count": 27,
   "metadata": {},
   "outputs": [],
   "source": [
    "# pyrng.ipynb links\n",
    "\n",
    "from pathlib import Path\n",
    "import sys\n",
    "import os\n",
    "import re\n",
    "\n",
    "original_stdout = sys.stdout\n",
    "\n",
    "# print(\"\\npyrng.ipynb links\\n\")\n",
    "\n",
    "link_regex = re.compile(r\"(\\[.*?\\])(\\(.*?\\))\")\n",
    "\n",
    "dfw = open(\"url_list.txt\", \"w\")\n",
    "sys.stdout = dfw\n",
    "\n",
    "with open (\"url.txt\") as file:\n",
    "    dfr = file.read()\n",
    "    matches = re.findall(link_regex, dfr)\n",
    "    for match in matches:\n",
    "        print(f'{match[0]}{match[1]}')\n",
    "\n",
    "# sys.stdout = original_stdout"
   ]
  },
  {
   "cell_type": "code",
   "execution_count": 28,
   "metadata": {},
   "outputs": [],
   "source": [
    "# pyrng.ipynb images\n",
    "\n",
    "from pathlib import Path\n",
    "import os\n",
    "import re\n",
    "\n",
    "# print(\"\\npyrng.ipynb images\\n\")\n",
    "\n",
    "image_link_regex = re.compile(r\"!(\\[.*?\\])(\\(.*?\\))\")\n",
    "\n",
    "dfw = open(\"url_list.txt\", \"a\")\n",
    "# sys.stdout = dfw\n",
    "\n",
    "with open (\"url.txt\") as file:\n",
    "    df = file.read()\n",
    "    matches = re.finditer(image_link_regex, df)\n",
    "    for match in matches:\n",
    "        print(f'{match[0]}{match[1]}')\n",
    "\n",
    "sys.stdout = original_stdout"
   ]
  },
  {
   "cell_type": "code",
   "execution_count": null,
   "metadata": {},
   "outputs": [],
   "source": []
  }
 ],
 "metadata": {
  "kernelspec": {
   "display_name": "Python 3.10.7 64-bit",
   "language": "python",
   "name": "python3"
  },
  "language_info": {
   "codemirror_mode": {
    "name": "ipython",
    "version": 3
   },
   "file_extension": ".py",
   "mimetype": "text/x-python",
   "name": "python",
   "nbconvert_exporter": "python",
   "pygments_lexer": "ipython3",
   "version": "3.10.7"
  },
  "orig_nbformat": 4,
  "vscode": {
   "interpreter": {
    "hash": "949777d72b0d2535278d3dc13498b2535136f6dfe0678499012e853ee9abcab1"
   }
  }
 },
 "nbformat": 4,
 "nbformat_minor": 2
}
